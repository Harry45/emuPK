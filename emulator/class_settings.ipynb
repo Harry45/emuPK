{
 "cells": [
  {
   "cell_type": "code",
   "execution_count": 1,
   "metadata": {},
   "outputs": [],
   "source": [
    "from classy import Class\n",
    "import numpy as np"
   ]
  },
  {
   "cell_type": "code",
   "execution_count": 2,
   "metadata": {},
   "outputs": [],
   "source": [
    "par = np.array([0.1295, 0.0224, 2.895, 0.9948, 0.7411, 0.5692])"
   ]
  },
  {
   "cell_type": "code",
   "execution_count": 3,
   "metadata": {},
   "outputs": [],
   "source": [
    "class_args = {\n",
    "    'z_max_pk': 4.66,\n",
    "    'output': 'mPk',\n",
    "    'non linear': 'halofit',\n",
    "    'P_k_max_h/Mpc': 5.0}\n",
    "\n",
    "cosmo_params = {'omega_cdm': par[0], 'omega_b': par[1], 'ln10^{10}A_s': par[2], 'n_s': par[3], 'h': par[4]}\n",
    "other_settings = {'N_ncdm': 1.0, 'deg_ncdm': 3.0, 'T_ncdm': 0.71611, 'N_ur': 0.00641}\n",
    "neutrino_settings = {'m_ncdm': par[5] / other_settings['deg_ncdm']}\n",
    "halofit_settings = {'halofit_k_per_decade':40, 'halofit_sigma_precision':1E-6}"
   ]
  },
  {
   "cell_type": "code",
   "execution_count": 4,
   "metadata": {},
   "outputs": [],
   "source": [
    "cosmo = Class()\n",
    "\n",
    "cosmo.set(cosmo_params)\n",
    "\n",
    "# settings for clASS (halofit etc)\n",
    "cosmo.set(class_args)\n",
    "\n",
    "# other settings for neutrino\n",
    "cosmo.set(other_settings)\n",
    "\n",
    "# neutrino settings\n",
    "cosmo.set(neutrino_settings)\n",
    "\n",
    "# halofit settings\n",
    "cosmo.set(halofit_settings)\n",
    "\n",
    "# compute power spectrum\n",
    "cosmo.compute()"
   ]
  },
  {
   "cell_type": "code",
   "execution_count": 5,
   "metadata": {},
   "outputs": [],
   "source": [
    "k = np.logspace(np.log10(5E-4), np.log10(5.0), 40, endpoint=True)"
   ]
  },
  {
   "cell_type": "code",
   "execution_count": 6,
   "metadata": {},
   "outputs": [
    {
     "data": {
      "text/plain": [
       "5580.087344451142"
      ]
     },
     "execution_count": 6,
     "metadata": {},
     "output_type": "execute_result"
    }
   ],
   "source": [
    "cosmo.pk(k[0], 0.0)"
   ]
  },
  {
   "cell_type": "code",
   "execution_count": null,
   "metadata": {},
   "outputs": [],
   "source": []
  }
 ],
 "metadata": {
  "kernelspec": {
   "display_name": "Python 3",
   "language": "python",
   "name": "python3"
  },
  "language_info": {
   "codemirror_mode": {
    "name": "ipython",
    "version": 3
   },
   "file_extension": ".py",
   "mimetype": "text/x-python",
   "name": "python",
   "nbconvert_exporter": "python",
   "pygments_lexer": "ipython3",
   "version": "3.7.6"
  }
 },
 "nbformat": 4,
 "nbformat_minor": 4
}
