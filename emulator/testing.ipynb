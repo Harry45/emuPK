{
 "cells": [
  {
   "cell_type": "code",
   "execution_count": 1,
   "metadata": {},
   "outputs": [],
   "source": [
    "import os\n",
    "import numpy as np\n",
    "import matplotlib.pylab as plt\n",
    "\n",
    "# our script\n",
    "import cosmoclass.spectrum as sp\n",
    "import cosmogp as cgp\n",
    "import utils.powerspec as up\n",
    "import setemu as st\n",
    "import training_points as tp\n",
    "\n",
    "plt.rc('text', usetex=True)\n",
    "plt.rc('font',**{'family':'sans-serif','serif':['Palatino']})\n",
    "figSize  = (12, 8)\n",
    "fontSize = 20 "
   ]
  },
  {
   "cell_type": "code",
   "execution_count": 2,
   "metadata": {},
   "outputs": [],
   "source": [
    "def savefig(k, z, name):\n",
    "    # create the folder if it does not exist\n",
    "    folder_name = 'tests/ps/'+name\n",
    "    if not os.path.exists(folder_name):\n",
    "        os.makedirs(folder_name)\n",
    "    plt.savefig(folder_name+'/z_'+str(z)+'_k_'+str(k)+'.png', bbox_inches = 'tight', dpi=100)\n",
    "    \n",
    "def savefig_om(n, z, name):\n",
    "    # create the folder if it does not exist\n",
    "    folder_name = 'tests/ps/'+name\n",
    "    if not os.path.exists(folder_name):\n",
    "        os.makedirs(folder_name)\n",
    "    plt.savefig(folder_name+'/z_'+str(z)+'_omega_cdm_'+str(n)+'.png', bbox_inches = 'tight', dpi=100)"
   ]
  },
  {
   "cell_type": "code",
   "execution_count": 3,
   "metadata": {},
   "outputs": [],
   "source": [
    "cosmo_module = sp.matterspectrum(zmax=4.66)\n",
    "cosmo_module.input_configurations()\n",
    "\n",
    "par = np.array([0.1295, 0.0224, 2.895, 0.9948, 0.7411, 0.5692])\n",
    "\n",
    "npoint = 500\n",
    "om = np.linspace(0.01, 0.40, npoint)"
   ]
  },
  {
   "cell_type": "code",
   "execution_count": 4,
   "metadata": {},
   "outputs": [],
   "source": [
    "test_lin = []\n",
    "test_non = []\n",
    "z_test = 4.66\n",
    "save_name = 'max'\n",
    "for index in range(npoint):\n",
    "    par[0] = om[index]\n",
    "    nonlin = cosmo_module.pk_nonlinear(par, z = z_test)\n",
    "    lin = cosmo_module.pk_linear(par, z = 0)\n",
    "    test_non.append(nonlin)\n",
    "    test_lin.append(lin)"
   ]
  },
  {
   "cell_type": "code",
   "execution_count": 5,
   "metadata": {},
   "outputs": [],
   "source": [
    "test_non = np.array(test_non)\n",
    "test_lin = np.array(test_lin)"
   ]
  },
  {
   "cell_type": "code",
   "execution_count": 6,
   "metadata": {},
   "outputs": [],
   "source": [
    "ratio = test_non/test_lin"
   ]
  },
  {
   "cell_type": "code",
   "execution_count": 7,
   "metadata": {},
   "outputs": [],
   "source": [
    "for k in range(1000):\n",
    "    title = str(np.around(cosmo_module.k_new[k],5))\n",
    "    plt.figure(figsize = figSize)\n",
    "    plt.plot(om, ratio[:,k],lw = 2)\n",
    "    plt.title(r'$k='+title+'$', fontsize = fontSize)\n",
    "    plt.ylabel(r'$\\frac{P_{\\delta}(k,z='+str(z_test)+r')}{P_{\\textrm{lin}}(k,z=0)}$', fontsize = fontSize)\n",
    "    plt.xlabel(r'$\\Omega_{\\textrm{cdm}}h^{2}$', fontsize = fontSize)\n",
    "    plt.tick_params(axis='x', labelsize=fontSize)\n",
    "    plt.tick_params(axis='y', labelsize=fontSize)\n",
    "    plt.xlim(min(om), max(om))\n",
    "    plt.yscale('log')\n",
    "    savefig(k, save_name, 'ratio_z_'+save_name)\n",
    "    plt.close()"
   ]
  },
  {
   "cell_type": "code",
   "execution_count": 8,
   "metadata": {},
   "outputs": [],
   "source": [
    "for n in range(npoint):\n",
    "    f, (a0, a1) = plt.subplots(2, 1, gridspec_kw={'height_ratios': [3, 1]}, figsize = (12, 15))\n",
    "    a0.set_title(r'$\\Omega_{\\textrm{cdm}}h^{2}='+str(np.around(om[n], 3))+'$', fontsize = fontSize)\n",
    "    a0.loglog(cosmo_module.k_new, test_non[n], lw = 2, label = 'Non-Linear ($z='+str(z_test)+'$)')\n",
    "    a0.loglog(cosmo_module.k_new, test_lin[n], lw = 2, label = 'Linear ($z=0$)', linestyle ='--')\n",
    "    a0.set_ylabel(r'$P(k,z='+str(z_test)+')$', fontsize = fontSize)\n",
    "    a0.set_xlabel(r'$k$', fontsize = fontSize)\n",
    "    a0.tick_params(axis='x', labelsize=fontSize)\n",
    "    a0.tick_params(axis='y', labelsize=fontSize)\n",
    "    a0.set_xlim(min(cosmo_module.k_new),max(cosmo_module.k_new))\n",
    "    a0.legend(loc = 'best',prop={'family':'sans-serif', 'size':15})\n",
    "\n",
    "    a1.plot(cosmo_module.k_new, test_non[n]/test_lin[n], lw = 2)\n",
    "    a1.set_xscale('log')\n",
    "    a1.set_yscale('log')\n",
    "    # a1.set_ylim(0.95, 1.2)\n",
    "    a1.set_ylabel(r'$\\frac{P_{\\delta}(k,z='+str(z_test)+r')}{P_{\\textrm{lin}}(k,z=0)}$', fontsize = fontSize)\n",
    "    a1.set_xlabel(r'$k$', fontsize = fontSize)\n",
    "    a1.tick_params(axis='x', labelsize=fontSize)\n",
    "    a1.tick_params(axis='y', labelsize=fontSize)\n",
    "    a1.set_xlim(min(cosmo_module.k_new),max(cosmo_module.k_new))\n",
    "    savefig_om(n, save_name, 'omega_cdm_z_'+save_name)\n",
    "    plt.close()"
   ]
  },
  {
   "cell_type": "markdown",
   "metadata": {},
   "source": [
    "### Growth Function, Linear Spectrum, Non-Linear Spectrum"
   ]
  },
  {
   "cell_type": "code",
   "execution_count": null,
   "metadata": {},
   "outputs": [],
   "source": [
    "g, l, q, n = tp.out_emu(cosmo_module, par)"
   ]
  },
  {
   "cell_type": "code",
   "execution_count": null,
   "metadata": {},
   "outputs": [],
   "source": [
    "# g = np.atleast_2d(g)\n",
    "# l = np.atleast_2d(l).T\n",
    "# q_der = n/np.dot(l, g) - 1"
   ]
  },
  {
   "cell_type": "code",
   "execution_count": null,
   "metadata": {},
   "outputs": [],
   "source": [
    "qr = []\n",
    "gf = []\n",
    "lp = []\n",
    "for i in range(npoint):\n",
    "    par[0] = om[i]\n",
    "    g, l , q, n = tp.out_emu(cosmo_module, par)\n",
    " \n",
    "    qr.append(q)\n",
    "    gf.append(g)\n",
    "    lp.append(l)"
   ]
  },
  {
   "cell_type": "code",
   "execution_count": null,
   "metadata": {},
   "outputs": [],
   "source": [
    "qr = np.asarray(qr)\n",
    "gf = np.asarray(gf)\n",
    "lp = np.asarray(lp)"
   ]
  },
  {
   "cell_type": "code",
   "execution_count": null,
   "metadata": {},
   "outputs": [],
   "source": [
    "print(qr.shape)\n",
    "print(gf.shape)\n",
    "print(lp.shape)"
   ]
  },
  {
   "cell_type": "markdown",
   "metadata": {},
   "source": [
    "### Non-Linear Matter Power Spectrum from CLASS"
   ]
  },
  {
   "cell_type": "code",
   "execution_count": null,
   "metadata": {},
   "outputs": [],
   "source": [
    "# rec_spectrum = []\n",
    "# rec_spectrum_lin = []\n",
    "# for i in range(npoint):\n",
    "#     par[0] = om[i]\n",
    "#     rec_spectrum.append(cosmo_module.pk_nonlinear(par))\n",
    "#     rec_spectrum_lin.append(cosmo_module.compute_ps_linear(par, z_ref = False))"
   ]
  },
  {
   "cell_type": "code",
   "execution_count": null,
   "metadata": {},
   "outputs": [],
   "source": [
    "# k_range = cosmo_module.k_range\n",
    "# z_range = cosmo_module.redshifts"
   ]
  },
  {
   "cell_type": "code",
   "execution_count": null,
   "metadata": {},
   "outputs": [],
   "source": [
    "# for k in range(40):\n",
    "#     for z in range(20):\n",
    "#         plt.figure(figsize = figSize)\n",
    "#         plt.scatter(om, rec_spectrum[:, k, z], label = 'Non-Linear')\n",
    "#         # plt.scatter(om, rec_spectrum_lin[:, k, z], label = 'Linear', marker = 'x')\n",
    "#         plt.ylabel(r'$P(k='+str(np.around(k_range[k],4))+',z='+str(np.around(z_range[z], 2))+')$', fontsize = fontSize)\n",
    "#         plt.xlabel(r'$\\Omega_{\\textrm{cdm}}h^{2}$', fontsize = fontSize)\n",
    "#         plt.tick_params(axis='x', labelsize=fontSize)\n",
    "#         plt.tick_params(axis='y', labelsize=fontSize)\n",
    "#         plt.legend(loc = 'best',prop={'family':'sans-serif', 'size':15})\n",
    "#         savefig(k,z, 'ps_inc_lin')\n",
    "#         plt.close()"
   ]
  },
  {
   "cell_type": "markdown",
   "metadata": {},
   "source": [
    "### Some Plots"
   ]
  },
  {
   "cell_type": "code",
   "execution_count": null,
   "metadata": {},
   "outputs": [],
   "source": [
    "plt.figure(figsize = figSize)\n",
    "plt.scatter(om, gf[:,2])\n",
    "plt.ylabel(r'$A(z_{1})$', fontsize = fontSize)\n",
    "plt.xlabel(r'$\\Omega_{\\textrm{cdm}}h^{2}$', fontsize = fontSize)\n",
    "plt.tick_params(axis='x', labelsize=fontSize)\n",
    "plt.tick_params(axis='y', labelsize=fontSize)\n",
    "# plt.savefig('tests/growth_function_1.pdf', bbox_inches = 'tight')\n",
    "plt.show()"
   ]
  },
  {
   "cell_type": "code",
   "execution_count": null,
   "metadata": {},
   "outputs": [],
   "source": [
    "ik = 4\n",
    "plt.figure(figsize = figSize)\n",
    "plt.scatter(om, lp[:,ik])\n",
    "plt.ylabel(r'$P_{\\textrm{lin}}(k_{'+str(ik)+'},z_{0})$', fontsize = fontSize)\n",
    "plt.xlabel(r'$\\Omega_{\\textrm{cdm}}h^{2}$', fontsize = fontSize)\n",
    "plt.tick_params(axis='x', labelsize=fontSize)\n",
    "plt.tick_params(axis='y', labelsize=fontSize)\n",
    "# plt.savefig('tests/pk_lin_0_0.pdf', bbox_inches = 'tight')\n",
    "plt.show()"
   ]
  },
  {
   "cell_type": "code",
   "execution_count": null,
   "metadata": {},
   "outputs": [],
   "source": [
    "# k = 20\n",
    "# z = 0\n",
    "# plt.figure(figsize = figSize)\n",
    "# plt.scatter(om, qr[:, k, z])\n",
    "# plt.ylabel(r'$q(k_{'+str(k)+'},z_{'+str(z)+'})$', fontsize = fontSize)\n",
    "# plt.xlabel(r'$\\Omega_{\\textrm{cdm}}h^{2}$', fontsize = fontSize)\n",
    "# plt.tick_params(axis='x', labelsize=fontSize)\n",
    "# plt.tick_params(axis='y', labelsize=fontSize)\n",
    "# # savefig(k, z, 'q')\n",
    "# # plt.savefig('tests/q_39_19.pdf', bbox_inches = 'tight')\n",
    "# plt.show()"
   ]
  },
  {
   "cell_type": "code",
   "execution_count": null,
   "metadata": {},
   "outputs": [],
   "source": [
    "for k in range(st.nk):\n",
    "    for z in range(st.nz):\n",
    "        plt.figure(figsize = figSize)\n",
    "        plt.scatter(om, qr[:, k, z])\n",
    "        plt.ylabel(r'$q(k_{'+str(k)+'},z_{'+str(z)+'})$', fontsize = fontSize)\n",
    "        plt.xlabel(r'$\\Omega_{\\textrm{cdm}}h^{2}$', fontsize = fontSize)\n",
    "        plt.tick_params(axis='x', labelsize=fontSize)\n",
    "        plt.tick_params(axis='y', labelsize=fontSize)\n",
    "        savefig(k, z, 'q50')\n",
    "        # plt.savefig('tests/q_39_19.pdf', bbox_inches = 'tight')\n",
    "        plt.close()"
   ]
  },
  {
   "cell_type": "markdown",
   "metadata": {},
   "source": [
    "### Linear Matter Power Spectrum"
   ]
  },
  {
   "cell_type": "code",
   "execution_count": null,
   "metadata": {},
   "outputs": [],
   "source": [
    "# for GP \n",
    "ps_gp = cgp.gp_power_spectrum(zmax=4.66)\n",
    "ps_gp.input_configurations()\n",
    "ps_gp.load_gps('gps/')"
   ]
  },
  {
   "cell_type": "code",
   "execution_count": null,
   "metadata": {},
   "outputs": [],
   "source": [
    "gp_lin = ps_gp.pk_lin(par)\n",
    "co_lin = cosmo_module.pk_lin(par)"
   ]
  },
  {
   "cell_type": "code",
   "execution_count": null,
   "metadata": {},
   "outputs": [],
   "source": [
    "plt.figure(figsize = figSize)\n",
    "plt.loglog(ps_gp.k_new, co_lin, basex=10, basey=10, lw = 2, label = 'CLASS')\n",
    "plt.loglog(ps_gp.k_new, gp_lin, basex=10, basey=10, lw = 2, linestyle='--', label = 'Emulator')\n",
    "plt.ylim(1E-2, 60E3)\n",
    "plt.ylabel(r'$P_{\\textrm{lin}}(k,z=0)$', fontsize = fontSize)\n",
    "plt.xlabel(r'$k[h\\,\\textrm{Mpc}^{-1}]$', fontsize = fontSize)\n",
    "plt.tick_params(axis='x', labelsize=fontSize)\n",
    "plt.tick_params(axis='y', labelsize=fontSize)\n",
    "plt.legend(loc = 'best',prop={'family':'sans-serif', 'size':15})\n",
    "plt.savefig('tests/gp_class_p_lin.pdf', bbox_inches = 'tight')\n",
    "plt.show()"
   ]
  },
  {
   "cell_type": "markdown",
   "metadata": {},
   "source": [
    "### Growth Function"
   ]
  },
  {
   "cell_type": "code",
   "execution_count": null,
   "metadata": {},
   "outputs": [],
   "source": [
    "gf_gp = ps_gp.growth_function(par)"
   ]
  },
  {
   "cell_type": "code",
   "execution_count": null,
   "metadata": {},
   "outputs": [],
   "source": [
    "gf_class = cosmo_module.growth_function(par)"
   ]
  },
  {
   "cell_type": "code",
   "execution_count": null,
   "metadata": {},
   "outputs": [],
   "source": [
    "plt.figure(figsize = figSize)\n",
    "plt.scatter(cosmo_module.redshifts, gf_class, label = 'CLASS')\n",
    "plt.scatter(cosmo_module.redshifts, gf_gp, marker = 'x', label = 'Emulator')\n",
    "plt.ylabel(r'$A(z;\\theta)$', fontsize = fontSize)\n",
    "plt.xlabel(r'$z$', fontsize = fontSize)\n",
    "plt.tick_params(axis='x', labelsize=fontSize)\n",
    "plt.tick_params(axis='y', labelsize=fontSize)\n",
    "plt.legend(loc = 'best',prop={'family':'sans-serif', 'size':15})\n",
    "plt.savefig('tests/growth_function_gp_class.pdf', bbox_inches = 'tight')\n",
    "plt.show()"
   ]
  },
  {
   "cell_type": "code",
   "execution_count": null,
   "metadata": {},
   "outputs": [],
   "source": [
    "def solution(A):\n",
    "    # write your code in Python 3.6\n",
    "    \n",
    "    a_max = max(A)\n",
    "    \n",
    "    a_sort = sorted(A)\n",
    "    \n",
    "    n = len(a_sort)\n",
    "    \n",
    "    x = None\n",
    "    \n",
    "    if a_max > 0:\n",
    "        \n",
    "        for i in range(n-1):\n",
    "            \n",
    "            diff = a_sort[i+1] - a_sort[i]\n",
    "\n",
    "            if diff == 2:\n",
    "                x = a_sort[i]+1\n",
    "                break\n",
    "    \n",
    "    if x is None and a_max > 0:\n",
    "        return a_sort[-1]+1\n",
    "    elif a_max > 0:\n",
    "        return x\n",
    "    else:\n",
    "        return 1"
   ]
  },
  {
   "cell_type": "code",
   "execution_count": null,
   "metadata": {},
   "outputs": [],
   "source": [
    "v = [1, 3, 6, 4, 1, 2]"
   ]
  },
  {
   "cell_type": "code",
   "execution_count": null,
   "metadata": {},
   "outputs": [],
   "source": [
    "solution(v)"
   ]
  },
  {
   "cell_type": "code",
   "execution_count": null,
   "metadata": {},
   "outputs": [],
   "source": [
    "solution([1, 2, 3])"
   ]
  },
  {
   "cell_type": "code",
   "execution_count": null,
   "metadata": {},
   "outputs": [],
   "source": [
    "for x in set(v):\n",
    "    print(x)"
   ]
  },
  {
   "cell_type": "code",
   "execution_count": null,
   "metadata": {},
   "outputs": [],
   "source": [
    "solution([-1, -2, -3])"
   ]
  },
  {
   "cell_type": "code",
   "execution_count": null,
   "metadata": {},
   "outputs": [],
   "source": []
  },
  {
   "cell_type": "code",
   "execution_count": null,
   "metadata": {},
   "outputs": [],
   "source": [
    "xcenter, ycenter = 0, 0\n",
    "width, height = 2, 1\n",
    "angle = -45\n",
    "\n",
    "theta = np.deg2rad(np.arange(0.0, 360.0, 1.0))\n",
    "x = 0.5 * width * np.cos(theta)\n",
    "y = 0.5 * height * np.sin(theta)\n",
    "\n",
    "rtheta = np.radians(angle)\n",
    "R = np.array([\n",
    "    [np.cos(rtheta), -np.sin(rtheta)],\n",
    "    [np.sin(rtheta),  np.cos(rtheta)],\n",
    "    ])\n",
    "\n",
    "\n",
    "x, y = np.dot(R, np.array([x, y]))\n",
    "x += xcenter\n",
    "y += ycenter"
   ]
  },
  {
   "cell_type": "code",
   "execution_count": null,
   "metadata": {},
   "outputs": [],
   "source": [
    "fig = plt.figure(figsize = (8,8))\n",
    "ax = fig.add_subplot(111, aspect='auto')\n",
    "ax.fill(x, y, alpha=0.2, facecolor='yellow',\n",
    "        edgecolor='yellow', linewidth=1, zorder=1)\n",
    "\n",
    "e1 = patches.Ellipse((xcenter, ycenter), width, height,\n",
    "                     angle=angle, linewidth=2, fill=False, zorder=2)\n",
    "\n",
    "ax.add_patch(e1)\n",
    "plt.show()"
   ]
  },
  {
   "cell_type": "code",
   "execution_count": null,
   "metadata": {},
   "outputs": [],
   "source": []
  }
 ],
 "metadata": {
  "kernelspec": {
   "display_name": "Python 3",
   "language": "python",
   "name": "python3"
  },
  "language_info": {
   "codemirror_mode": {
    "name": "ipython",
    "version": 3
   },
   "file_extension": ".py",
   "mimetype": "text/x-python",
   "name": "python",
   "nbconvert_exporter": "python",
   "pygments_lexer": "ipython3",
   "version": "3.7.6"
  }
 },
 "nbformat": 4,
 "nbformat_minor": 4
}
