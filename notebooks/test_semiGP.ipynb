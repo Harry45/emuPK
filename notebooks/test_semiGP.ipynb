{
 "cells": [
  {
   "cell_type": "code",
   "execution_count": 1,
   "metadata": {},
   "outputs": [],
   "source": [
    "import sys \n",
    "sys.path.append('../')\n",
    "\n",
    "import pandas as pd \n",
    "import numpy as np \n",
    "import emulator.semigp as emu\n",
    "import emulator.glm as glm\n",
    "# from core.glm import GLM\n",
    "# from core.gp2 import GP as GP_zero\n",
    "\n",
    "import matplotlib.pylab as plt \n",
    "import matplotlib\n",
    "from getdist import plots, MCSamples\n",
    "import getdist\n",
    "\n",
    "plt.rc('text', usetex=True)\n",
    "matplotlib.rcParams['text.latex.preamble']=[r\"\\usepackage{amsmath}\"]\n",
    "plt.rc('font',**{'family':'sans-serif','serif':['Palatino']})\n",
    "figSize  = (12, 8)\n",
    "fontSize = 20\n",
    "%matplotlib inline"
   ]
  },
  {
   "cell_type": "markdown",
   "metadata": {},
   "source": [
    "# KiDS-450"
   ]
  },
  {
   "cell_type": "code",
   "execution_count": null,
   "metadata": {},
   "outputs": [],
   "source": [
    "!ls -l ../examples/kids/"
   ]
  },
  {
   "cell_type": "code",
   "execution_count": null,
   "metadata": {},
   "outputs": [],
   "source": [
    "data = pd.read_csv('../Data/optimum/1000_table.csv', index_col =0)"
   ]
  },
  {
   "cell_type": "code",
   "execution_count": null,
   "metadata": {},
   "outputs": [],
   "source": [
    "# data = pd.read_csv('../examples/kids/1000_8D_table_prior_moped_3_998.csv').iloc[:,1:]\n",
    "indexMoped = 1\n",
    "X = np.array(data.iloc[:,0:8])\n",
    "yo = np.array(data.iloc[:,7+indexMoped])"
   ]
  },
  {
   "cell_type": "code",
   "execution_count": null,
   "metadata": {},
   "outputs": [],
   "source": [
    "plt.figure(figsize = (8,8))\n",
    "plt.hist(yo, density = True, edgecolor='blue', linewidth=1.2, alpha = 0.5, bins = 10)\n",
    "plt.xlabel('$g_{%d}$ (Exact)'%indexMoped, fontsize = fontSize)\n",
    "plt.tick_params(axis='x', labelsize=fontSize)\n",
    "plt.tick_params(axis='y', labelsize=fontSize)\n",
    "plt.ticklabel_format(style='sci', axis='y', scilimits=(0,0))\n",
    "plt.xlim(min(yo), max(yo))\n",
    "# plt.savefig('/Users/Harry/Desktop/originalMOPED_'+str(indexMoped)+'.pdf', bbox_inches='tight')\n",
    "plt.show()"
   ]
  },
  {
   "cell_type": "code",
   "execution_count": null,
   "metadata": {},
   "outputs": [],
   "source": [
    "myGLM = GLM(X, yo, Var=1E-6, Xtrans = True, Ytrans = False, useMean = False)\n",
    "myGLM.makeTransformation()\n",
    "D = myGLM.computeBasis(order = 2)"
   ]
  },
  {
   "cell_type": "code",
   "execution_count": null,
   "metadata": {},
   "outputs": [],
   "source": [
    "myGLM.regressionPrior(Lambda = 1000)\n",
    "logZ = myGLM.Evidence()\n",
    "post_beta, cov_beta = myGLM.posteriorCoefficients()"
   ]
  },
  {
   "cell_type": "code",
   "execution_count": null,
   "metadata": {},
   "outputs": [],
   "source": [
    "res = myGLM.yTrain - (np.dot(myGLM.PHI, post_beta)+myGLM.meanFunction)#np.atleast_2d(y).T - np.dot(myGLM.PHI, post_beta)\n",
    "res = res.flatten()"
   ]
  },
  {
   "cell_type": "code",
   "execution_count": null,
   "metadata": {},
   "outputs": [],
   "source": [
    "plt.figure(figsize = (8,8))\n",
    "plt.hist(res, density = True, edgecolor='blue', linewidth=1.2, alpha = 0.5, bins = 10)\n",
    "plt.xlabel(r'$\\boldsymbol{g}_{%d}-\\boldsymbol{\\Phi}\\hat{\\boldsymbol{\\beta}}$'%indexMoped, fontsize = fontSize)\n",
    "plt.tick_params(axis='x', labelsize=fontSize)\n",
    "plt.tick_params(axis='y', labelsize=fontSize)\n",
    "plt.ticklabel_format(style='sci', axis='y', scilimits=(0,0))\n",
    "plt.xlim(min(res), max(res))\n",
    "# plt.savefig('/Users/Harry/Desktop/residual_'+str(indexMoped)+'.pdf', bbox_inches='tight')\n",
    "plt.show()"
   ]
  },
  {
   "cell_type": "code",
   "execution_count": null,
   "metadata": {},
   "outputs": [],
   "source": [
    "Nparams = 9\n",
    "myGP = GP(X, yo, optParams=np.zeros(Nparams), Var = 1E-6, Xtrans = True, yTrans = False, jitter=1E-10, useMean = False)\n",
    "\n",
    "# Make appropriate transformation\n",
    "myGP.makeTransformation()\n",
    "\n",
    "# Compute design matrix \n",
    "PHI = myGP.computeBasis(order = 2)\n",
    "\n",
    "# Input regression prior (default: 0 mean and unit variance: inputs -> mean = None, cov = None, Lambda = 1)\n",
    "# myGP.regressionPrior(mean = post_beta, cov = np.identity(post_beta.shape[0]), Lambda = 1)\n",
    "myGP.regressionPrior(mean = np.zeros(PHI.shape[1]), cov = np.identity(PHI.shape[1]), Lambda = 1000)\n",
    "\n",
    "# Set bound (prior for kernel hyperparameters)\n",
    "bnd    = np.repeat(np.array([[-5.0, 5.0]]), Nparams, axis = 0)\n",
    "\n",
    "# Amplitude is important \n",
    "amp    = 2*np.log(np.std(res))\n",
    "bnd[0] = np.array([amp-2, amp+10])"
   ]
  },
  {
   "cell_type": "code",
   "execution_count": null,
   "metadata": {},
   "outputs": [],
   "source": [
    "bnd[0]"
   ]
  },
  {
   "cell_type": "code",
   "execution_count": null,
   "metadata": {},
   "outputs": [],
   "source": [
    "# run optimisation \n",
    "myGP.fit(method = 'L-BFGS-B', bounds = bnd, options = {'ftol':1E-20, 'maxiter':500}, Nrestart = 5)"
   ]
  },
  {
   "cell_type": "code",
   "execution_count": null,
   "metadata": {},
   "outputs": [],
   "source": [
    "testPoint = np.array([0.35, 0.022, 2.47, 1.13, 0.75, 1.0, 0.5, -1.72])"
   ]
  },
  {
   "cell_type": "code",
   "execution_count": null,
   "metadata": {},
   "outputs": [],
   "source": [
    "%%time\n",
    "a, b = myGP.prediction(testPoint, returnVar=True)"
   ]
  },
  {
   "cell_type": "code",
   "execution_count": null,
   "metadata": {},
   "outputs": [],
   "source": [
    "a"
   ]
  },
  {
   "cell_type": "code",
   "execution_count": null,
   "metadata": {},
   "outputs": [],
   "source": [
    "b"
   ]
  },
  {
   "cell_type": "code",
   "execution_count": null,
   "metadata": {},
   "outputs": [],
   "source": [
    "myGP.derivatives(testPoint, order = 2)"
   ]
  },
  {
   "cell_type": "code",
   "execution_count": null,
   "metadata": {},
   "outputs": [],
   "source": [
    "ndim  = 5\n",
    "samps = np.random.multivariate_normal(myGP.betaHat.flatten()[0:ndim], myGP.Vbeta[0:ndim, 0:ndim], 50000)\n",
    "#samps2 = np.random.multivariate_normal(post_beta.flatten()[0:ndim], cov_beta[0:ndim, 0:ndim], 50000)\n",
    "names = [\"x%s\"%i for i in range(ndim)]\n",
    "labels =  [r\"\\beta_{%s}\"%i for i in range(ndim)]\n",
    "samples1 = MCSamples(samples=samps,names = names, labels = labels)\n",
    "#samples2 = MCSamples(samples=samps2,names = names, labels = labels)"
   ]
  },
  {
   "cell_type": "code",
   "execution_count": null,
   "metadata": {},
   "outputs": [],
   "source": [
    "plt.rcParams['text.latex.preamble'] = r'\\newcommand{\\mathdefault}[1][]{}'\n",
    "g = plots.get_subplot_plotter()\n",
    "g.settings.num_plot_contours = 2\n",
    "samples1.updateSettings({'contours': [0.68, 0.95]})\n",
    "g.settings.lw_contour = 4\n",
    "g.settings.axes_fontsize = 20\n",
    "g.settings.lab_fontsize = 20\n",
    "g.settings.legend_fontsize = 10\n",
    "# g.settings.alpha_filled_add = 0.6\n",
    "# g.settings.scaling_factor = 1.5\n",
    "g.triangle_plot([samples1])#, samples2])\n",
    "plt.show()"
   ]
  },
  {
   "cell_type": "code",
   "execution_count": null,
   "metadata": {},
   "outputs": [],
   "source": [
    "post_beta.flatten()[0:ndim]"
   ]
  },
  {
   "cell_type": "code",
   "execution_count": null,
   "metadata": {},
   "outputs": [],
   "source": [
    "np.sqrt(np.diag(cov_beta[0:ndim, 0:ndim]))"
   ]
  },
  {
   "cell_type": "code",
   "execution_count": null,
   "metadata": {},
   "outputs": [],
   "source": [
    "m, c = myGP.posterior()\n",
    "meanGP = m[PHI.shape[1]:].flatten()\n",
    "covGP  = c[PHI.shape[1]:, PHI.shape[1]:]"
   ]
  },
  {
   "cell_type": "code",
   "execution_count": null,
   "metadata": {},
   "outputs": [],
   "source": [
    "m.flatten()[0:ndim]"
   ]
  },
  {
   "cell_type": "code",
   "execution_count": null,
   "metadata": {},
   "outputs": [],
   "source": [
    "np.diag(c[0:myGP.nbasis, 0:myGP.nbasis])"
   ]
  },
  {
   "cell_type": "code",
   "execution_count": null,
   "metadata": {},
   "outputs": [],
   "source": [
    "ndim  = 15\n",
    "samps = np.random.multivariate_normal(meanGP[0:ndim], covGP[0:ndim, 0:ndim], 50000)\n",
    "names = [\"x%s\"%i for i in range(ndim)]\n",
    "labels =  [r\"f_{%s}\"%i for i in range(ndim)]\n",
    "samples = MCSamples(samples=samps,names = names, labels = labels)"
   ]
  },
  {
   "cell_type": "code",
   "execution_count": null,
   "metadata": {},
   "outputs": [],
   "source": [
    "#plt.rcParams['text.latex.preamble'] = r'\\newcommand{\\mathdefault}[1][]{}'\n",
    "g = plots.get_subplot_plotter()\n",
    "g.settings.num_plot_contours = 2\n",
    "samples.updateSettings({'contours': [0.68, 0.95]})\n",
    "g.settings.lw_contour = 4\n",
    "g.settings.axes_fontsize = 15\n",
    "g.settings.lab_fontsize = 20\n",
    "g.settings.legend_fontsize = 10\n",
    "# g.settings.alpha_filled_add = 0.6\n",
    "# g.settings.scaling_factor = 1.5\n",
    "g.triangle_plot([samples])\n",
    "plt.show()"
   ]
  },
  {
   "cell_type": "markdown",
   "metadata": {},
   "source": [
    "### Zero Mean GP"
   ]
  },
  {
   "cell_type": "code",
   "execution_count": null,
   "metadata": {},
   "outputs": [],
   "source": [
    "mytest = np.c_[X, yo.reshape(len(yo),1)]\n",
    "sigma  = 0.5*np.log(1E-6)\n",
    "ndim   = 8\n",
    "mygp   = GP_zero(mytest, sigma=sigma, train = True, nrestart = 2, ndim = ndim)\n",
    "mygp.transform()\n",
    "#bnd    = np.repeat(np.array([[-1.0, 5.0]]), ndim, axis = 0)\n",
    "bnd    = np.repeat(np.array([[-5,5]]), ndim+1, axis = 0)\n",
    "bnd[0] = np.array([amp-2, amp+10])\n"
   ]
  },
  {
   "cell_type": "code",
   "execution_count": null,
   "metadata": {},
   "outputs": [],
   "source": [
    "mygp.fit(method = 'L-BFGS-B', bounds = bnd, options = {'ftol':1E-12, 'maxiter':500})"
   ]
  },
  {
   "cell_type": "code",
   "execution_count": null,
   "metadata": {},
   "outputs": [],
   "source": [
    "plt.figure(figsize = (8,8))\n",
    "plt.hist(mygp.y, density = True, edgecolor='blue', linewidth=1.2, alpha = 0.5, bins = 10)\n",
    "plt.xlabel('$g_{%d}$ (Exact)'%indexMoped, fontsize = fontSize)\n",
    "plt.tick_params(axis='x', labelsize=fontSize)\n",
    "plt.tick_params(axis='y', labelsize=fontSize)\n",
    "plt.ticklabel_format(style='sci', axis='y', scilimits=(0,0))\n",
    "plt.xlim(min(mygp.y), max(mygp.y))\n",
    "plt.show()"
   ]
  },
  {
   "cell_type": "code",
   "execution_count": null,
   "metadata": {},
   "outputs": [],
   "source": [
    "mygp.prediction(testPoint)"
   ]
  },
  {
   "cell_type": "code",
   "execution_count": null,
   "metadata": {},
   "outputs": [],
   "source": [
    "mygp.returnSample(testPoint, mean = True)"
   ]
  },
  {
   "cell_type": "markdown",
   "metadata": {},
   "source": [
    "# JLA "
   ]
  },
  {
   "cell_type": "code",
   "execution_count": 2,
   "metadata": {},
   "outputs": [],
   "source": [
    "data = pd.read_csv('../examples/jla_table_lhs_700.csv').iloc[:,1:]\n",
    "X = np.array(data.iloc[:,0:6])\n",
    "y = np.array(data.iloc[:,6])"
   ]
  },
  {
   "cell_type": "markdown",
   "metadata": {},
   "source": [
    "### Gaussian Linear Model "
   ]
  },
  {
   "cell_type": "code",
   "execution_count": 3,
   "metadata": {},
   "outputs": [
    {
     "name": "stdout",
     "output_type": "stream",
     "text": [
      "        The log-evidence is -5486751694.21        \n"
     ]
    }
   ],
   "source": [
    "myGLM = glm.GLM(X, y, var=1E-6, order = 2, x_trans = True, y_trans = False, use_mean=False)\n",
    "myGLM.do_transformation()\n",
    "D = myGLM.compute_basis()\n",
    "myGLM.regression_prior(lambda_cap = 1)\n",
    "logZ = myGLM.evidence()\n",
    "post_beta, cov_beta = myGLM.posterior_coefficients()"
   ]
  },
  {
   "cell_type": "code",
   "execution_count": 4,
   "metadata": {},
   "outputs": [],
   "source": [
    "res = np.atleast_2d(y).T - np.dot(myGLM.phi, post_beta)\n",
    "res = res.flatten()"
   ]
  },
  {
   "cell_type": "code",
   "execution_count": 5,
   "metadata": {},
   "outputs": [
    {
     "data": {
      "image/png": "[encoded data removed]",
      "text/plain": [
       "<Figure size 432x288 with 1 Axes>"
      ]
     },
     "metadata": {
      "needs_background": "light"
     },
     "output_type": "display_data"
    }
   ],
   "source": [
    "plt.hist(res, density=True)\n",
    "plt.show()"
   ]
  },
  {
   "cell_type": "markdown",
   "metadata": {},
   "source": [
    "### Gaussian Process"
   ]
  },
  {
   "cell_type": "code",
   "execution_count": 6,
   "metadata": {},
   "outputs": [],
   "source": [
    "Nparams = 7\n",
    "myGP = emu.GP(X, y, var = 1E-6, opt_params=np.zeros(Nparams), x_trans = True, y_trans = False, jitter=1E-10, use_mean = False)"
   ]
  },
  {
   "cell_type": "code",
   "execution_count": 7,
   "metadata": {},
   "outputs": [],
   "source": [
    "# Make appropriate transformation\n",
    "myGP.do_transformation()\n",
    "\n",
    "# Compute design matrix \n",
    "PHI = myGP.compute_basis()\n",
    "\n",
    "# Input regression prior (default: 0 mean and unit variance: inputs -> mean = None, cov = None, Lambda = 1)\n",
    "# myGP.regression_prior(mean = post_beta, cov = cov_beta, Lambda = 10)\n",
    "myGP.regression_prior(lambda_cap= 10)\n",
    "\n",
    "# Set bound (prior for kernel hyperparameters)\n",
    "bnd    = np.repeat(np.array([[-5.0, 5.0]]), Nparams, axis = 0)\n",
    "\n",
    "# Amplitude is important \n",
    "amp    = 2*np.log(np.std(res))\n",
    "bnd[0] = np.array([amp-2, amp+10])"
   ]
  },
  {
   "cell_type": "code",
   "execution_count": 8,
   "metadata": {},
   "outputs": [
    {
     "name": "stdout",
     "output_type": "stream",
     "text": [
      "Performing Optimization step 1\n",
      "Performing Optimization step 2\n",
      "Performing Optimization step 3\n",
      "Performing Optimization step 4\n",
      "Performing Optimization step 5\n",
      "[-2618.67327658 -2618.6740023   6292.47389965 -2618.67238593\n",
      " -2618.67234108]\n",
      "[10.64775307  1.54535802  0.2756522   5.          5.          5.\n",
      "  5.        ]\n"
     ]
    },
    {
     "data": {
      "text/plain": [
       "array([10.64775307,  1.54535802,  0.2756522 ,  5.        ,  5.        ,\n",
       "        5.        ,  5.        ])"
      ]
     },
     "execution_count": 8,
     "metadata": {},
     "output_type": "execute_result"
    }
   ],
   "source": [
    "myGP.fit(method = 'L-BFGS-B', bounds = bnd, options = {'ftol':1E-20, 'maxiter':500}, n_restart = 5)"
   ]
  },
  {
   "cell_type": "markdown",
   "metadata": {},
   "source": [
    "### Getdist Plot"
   ]
  },
  {
   "cell_type": "code",
   "execution_count": null,
   "metadata": {},
   "outputs": [],
   "source": [
    "ndim  = 5\n",
    "samps = np.random.multivariate_normal(myGP.beta_hat.flatten()[0:ndim], myGP.var_beta[0:ndim, 0:ndim], 50000)\n",
    "names = [\"x%s\"%i for i in range(ndim)]\n",
    "labels =  [r\"\\beta_{%s}\"%i for i in range(ndim)]\n",
    "samples = MCSamples(samples=samps,names = names, labels = labels)\n",
    "\n",
    "# samps = np.random.multivariate_normal(myGP.betaHat.flatten(), myGP.Vbeta, 50000)\n",
    "# ndim  = myGP.Vbeta.shape[0]\n",
    "# names = [\"x%s\"%i for i in range(ndim)]\n",
    "# labels =  [r\"x_{%s}\"%i for i in range(ndim)]\n",
    "# samples = MCSamples(samples=samps,names = names, labels = labels)"
   ]
  },
  {
   "cell_type": "code",
   "execution_count": null,
   "metadata": {},
   "outputs": [],
   "source": [
    "plt.rcParams['text.latex.preamble'] = r'\\newcommand{\\mathdefault}[1][]{}'\n",
    "g = plots.get_subplot_plotter()\n",
    "g.settings.num_plot_contours = 2\n",
    "samples.updateSettings({'contours': [0.68, 0.95]})\n",
    "g.settings.lw_contour = 4\n",
    "g.settings.axes_fontsize = 20\n",
    "g.settings.lab_fontsize = 20\n",
    "g.settings.legend_fontsize = 10\n",
    "# g.settings.alpha_filled_add = 0.6\n",
    "# g.settings.scaling_factor = 1.5\n",
    "g.triangle_plot([samples])\n",
    "plt.show()"
   ]
  },
  {
   "cell_type": "markdown",
   "metadata": {},
   "source": [
    "### GetDist Plot for the First Few Residuals"
   ]
  },
  {
   "cell_type": "code",
   "execution_count": null,
   "metadata": {},
   "outputs": [],
   "source": [
    "m, c = myGP.posterior()"
   ]
  },
  {
   "cell_type": "code",
   "execution_count": null,
   "metadata": {},
   "outputs": [],
   "source": [
    "meanGP = m[13:].flatten()\n",
    "covGP  = c[13:, 13:]"
   ]
  },
  {
   "cell_type": "code",
   "execution_count": null,
   "metadata": {},
   "outputs": [],
   "source": [
    "ndim  = 5\n",
    "samps = np.random.multivariate_normal(meanGP[0:ndim], covGP[0:ndim, 0:ndim], 50000)\n",
    "names = [\"x%s\"%i for i in range(ndim)]\n",
    "labels =  [r\"f_{%s}\"%i for i in range(ndim)]\n",
    "samples = MCSamples(samples=samps,names = names, labels = labels)"
   ]
  },
  {
   "cell_type": "code",
   "execution_count": null,
   "metadata": {},
   "outputs": [],
   "source": [
    "plt.rcParams['text.latex.preamble'] = r'\\newcommand{\\mathdefault}[1][]{}'\n",
    "g = plots.get_subplot_plotter()\n",
    "g.settings.num_plot_contours = 2\n",
    "samples.updateSettings({'contours': [0.68, 0.95]})\n",
    "g.settings.lw_contour = 4\n",
    "g.settings.axes_fontsize = 20\n",
    "g.settings.lab_fontsize = 20\n",
    "g.settings.legend_fontsize = 10\n",
    "# g.settings.alpha_filled_add = 0.6\n",
    "# g.settings.scaling_factor = 1.5\n",
    "g.triangle_plot([samples])\n",
    "plt.show()"
   ]
  },
  {
   "cell_type": "code",
   "execution_count": null,
   "metadata": {},
   "outputs": [],
   "source": [
    "# Npoint = 200\n",
    "# xRange = np.linspace(-4, 2, Npoint)\n",
    "# params = np.c_[-7.44*np.ones((Npoint, 1)), xRange.reshape(Npoint, 1)]\n",
    "# rec    = np.array([myGP.Evidence(params[i])[0] for i in range(Npoint)]).flatten()\n",
    "\n",
    "# plt.figure(figsize = (12, 8))\n",
    "# plt.plot(xRange, rec, lw = 2)\n",
    "# plt.ylabel(r'$\\textrm{log }\\mathbb{Z}$', fontsize = fontSize)\n",
    "# plt.xlim(min(xRange), max(xRange))\n",
    "# plt.ticklabel_format(style='sci', axis='y', scilimits=(0,0))\n",
    "# plt.xlabel(r'$\\nu_{0}$', fontsize = fontSize)\n",
    "# plt.tick_params(axis='x', labelsize=fontSize)\n",
    "# plt.tick_params(axis='y', labelsize=fontSize)\n",
    "# # plt.savefig('/Users/Harry/Desktop/cost_.pdf', bbox_inches='tight')\n",
    "# plt.show()"
   ]
  },
  {
   "cell_type": "code",
   "execution_count": 9,
   "metadata": {},
   "outputs": [],
   "source": [
    "testPoint = np.array([0.15, -1.0, -19.0, 0.0, 0.125, 2.6])"
   ]
  },
  {
   "cell_type": "code",
   "execution_count": 10,
   "metadata": {},
   "outputs": [],
   "source": [
    "eps       = 1E-4\n",
    "testPoint1 = np.array([0.15+eps, -1.0, -19.0, 0.0, 0.125, 2.6])\n",
    "testPoint2 = np.array([0.15-eps, -1.0, -19.0, 0.0, 0.125, 2.6])"
   ]
  },
  {
   "cell_type": "code",
   "execution_count": 11,
   "metadata": {},
   "outputs": [
    {
     "data": {
      "text/plain": [
       "array([[57.6869659]])"
      ]
     },
     "execution_count": 11,
     "metadata": {},
     "output_type": "execute_result"
    }
   ],
   "source": [
    "(myGP.prediction(test_point=testPoint1) - myGP.prediction(test_point=testPoint2))/(2*eps) "
   ]
  },
  {
   "cell_type": "code",
   "execution_count": 12,
   "metadata": {},
   "outputs": [
    {
     "data": {
      "text/plain": [
       "(array([[-1168.46200808]]), array([[1.14774593e-06]]))"
      ]
     },
     "execution_count": 12,
     "metadata": {},
     "output_type": "execute_result"
    }
   ],
   "source": [
    "# [-1168.4624  -546.0511   702.0807     2.79      14.3995    33.0007]\n",
    "myGP.prediction(testPoint, return_var=True)"
   ]
  },
  {
   "cell_type": "code",
   "execution_count": 13,
   "metadata": {},
   "outputs": [],
   "source": [
    "# (myGP.predOriginalFunction(testPoint=testPoint1) - myGP.predOriginalFunction(testPoint=testPoint2))/(2*eps) "
   ]
  },
  {
   "cell_type": "code",
   "execution_count": 14,
   "metadata": {},
   "outputs": [],
   "source": [
    "# myGP.predOriginalFunction(testPoint=testPoint)"
   ]
  },
  {
   "cell_type": "code",
   "execution_count": 15,
   "metadata": {},
   "outputs": [],
   "source": [
    "# -106.2411,    8.6312,   -4.9495,  -15.0657, -307.0462,   -1.0553"
   ]
  },
  {
   "cell_type": "code",
   "execution_count": 16,
   "metadata": {},
   "outputs": [],
   "source": [
    "g1, g2 = myGP.derivatives(testPoint, order = 2)"
   ]
  },
  {
   "cell_type": "code",
   "execution_count": 17,
   "metadata": {},
   "outputs": [
    {
     "data": {
      "text/plain": [
       "array([ 57.68675598,  28.13134051, -47.21717342, -14.73416878,\n",
       "        14.65259005,   2.38266822])"
      ]
     },
     "execution_count": 17,
     "metadata": {},
     "output_type": "execute_result"
    }
   ],
   "source": [
    "g1"
   ]
  },
  {
   "cell_type": "code",
   "execution_count": 18,
   "metadata": {},
   "outputs": [
    {
     "data": {
      "text/plain": [
       "array([-1.03314914e+02,  8.24631310e+00, -8.89521491e-02, -6.63848253e-02,\n",
       "       -9.51747223e-02,  1.48252850e-02])"
      ]
     },
     "execution_count": 18,
     "metadata": {},
     "output_type": "execute_result"
    }
   ],
   "source": [
    "g2"
   ]
  },
  {
   "cell_type": "code",
   "execution_count": 19,
   "metadata": {},
   "outputs": [
    {
     "data": {
      "text/plain": [
       "array([-9.67914470e-03,  1.21266315e-01, -1.12419993e+01, -1.50636835e+01,\n",
       "       -1.05069915e+01,  6.74523291e+01])"
      ]
     },
     "execution_count": 19,
     "metadata": {},
     "output_type": "execute_result"
    }
   ],
   "source": [
    "1./g2"
   ]
  },
  {
   "cell_type": "code",
   "execution_count": null,
   "metadata": {},
   "outputs": [],
   "source": [
    "# x_ = (myGP.theta - np.mean(myGP.theta, axis = 0))/np.std(myGP.theta, axis = 0)\n",
    "\n",
    "# cov              = np.cov(x_.T)\n",
    "# a, b, c          = np.linalg.svd(cov)\n",
    "# M                = np.diag(1.0/np.sqrt(b))\n",
    "# MU          = np.dot(M, c)      \n",
    "# theta_trans = np.dot(MU, x_.T)\n",
    "# theta_trans = theta_trans.T\n",
    "\n",
    "# from functools import reduce\n",
    "# phi = np.c_[np.ones((700,1)), np.concatenate([theta_trans**i for i in np.arange(1, 3)], axis = 1)]\n",
    "# np.amax(reduce(np.dot, [phi, myGP.cov, phi.T]))"
   ]
  },
  {
   "cell_type": "markdown",
   "metadata": {},
   "source": [
    "### Test Function (1D)"
   ]
  },
  {
   "cell_type": "code",
   "execution_count": null,
   "metadata": {},
   "outputs": [],
   "source": [
    "def myfunction(x):\n",
    "    return np.sin(x)\n",
    "\n",
    "def firstD(x):\n",
    "    return np.cos(x)\n",
    "\n",
    "def secondD(x):\n",
    "    return -np.sin(x)"
   ]
  },
  {
   "cell_type": "code",
   "execution_count": null,
   "metadata": {},
   "outputs": [],
   "source": [
    "N  = 5\n",
    "xt = np.zeros((N, 1))\n",
    "xt[:,0] = np.random.uniform(0.0, np.pi, N)#np.linspace(0.0, np.pi, N)\n",
    "yt      = myfunction(xt).reshape(N,1)"
   ]
  },
  {
   "cell_type": "code",
   "execution_count": null,
   "metadata": {},
   "outputs": [],
   "source": [
    "Nparams = 1\n",
    "myGP_ = GP(xt, yt, optParams=np.zeros(Nparams), Var = 1E-10, Xtrans = False, yTrans = False, jitter=1E-10, useMean = False)"
   ]
  },
  {
   "cell_type": "code",
   "execution_count": null,
   "metadata": {},
   "outputs": [],
   "source": [
    "myGP_.makeTransformation()\n",
    "PHI_ = myGP_.computeBasis(order = 2)\n",
    "myGP_.regressionPrior(mean = np.zeros(3), cov = np.identity(3), Lambda = 1.0)"
   ]
  },
  {
   "cell_type": "code",
   "execution_count": null,
   "metadata": {},
   "outputs": [],
   "source": [
    "bnd    = np.repeat(np.array([[-5.0,5.0]]), Nparams, axis = 0)\n",
    "#bnd[0] = np.array([-5.0, 0.0])"
   ]
  },
  {
   "cell_type": "code",
   "execution_count": null,
   "metadata": {},
   "outputs": [],
   "source": [
    "myGP_.fit(method = 'L-BFGS-B', bounds = bnd, options = {'ftol':1E-12, 'maxiter':500}, Nrestart = 5)"
   ]
  },
  {
   "cell_type": "code",
   "execution_count": null,
   "metadata": {},
   "outputs": [],
   "source": [
    "Ntest     = 1000\n",
    "testPoint = np.linspace(0.0, np.pi, Ntest)"
   ]
  },
  {
   "cell_type": "code",
   "execution_count": null,
   "metadata": {},
   "outputs": [],
   "source": [
    "yTrue = myfunction(testPoint)\n",
    "f1    = firstD(testPoint)\n",
    "f2    = secondD(testPoint)"
   ]
  },
  {
   "cell_type": "code",
   "execution_count": null,
   "metadata": {},
   "outputs": [],
   "source": [
    "m   = np.zeros(Ntest)\n",
    "v   = np.zeros(Ntest)\n",
    "f_1 = np.zeros(Ntest)\n",
    "f_2 = np.zeros(Ntest)"
   ]
  },
  {
   "cell_type": "code",
   "execution_count": null,
   "metadata": {},
   "outputs": [],
   "source": [
    "for i in range(Ntest):\n",
    "    m1, v1         = myGP_.prediction(testPoint[i], returnVar=True)\n",
    "    f_1[i], f_2[i] = myGP_.derivatives(testPoint[i], order=2)\n",
    "    m[i], v[i]     = m1.flatten(), v1.flatten()"
   ]
  },
  {
   "cell_type": "code",
   "execution_count": null,
   "metadata": {},
   "outputs": [],
   "source": [
    "myGP_.meanFunction"
   ]
  },
  {
   "cell_type": "code",
   "execution_count": null,
   "metadata": {},
   "outputs": [],
   "source": [
    "#m,c = myGP_.posterior()"
   ]
  },
  {
   "cell_type": "code",
   "execution_count": null,
   "metadata": {},
   "outputs": [],
   "source": [
    "myGP_.betaHat"
   ]
  },
  {
   "cell_type": "code",
   "execution_count": null,
   "metadata": {},
   "outputs": [],
   "source": [
    "plt.figure(figsize = (12, 8))\n",
    "plt.plot(testPoint, yTrue, label = 'True Function', lw = 4)\n",
    "plt.scatter(xt, yt, s = 50, label = 'Training Points')\n",
    "plt.scatter(xt, np.dot(myGP_.PHI, myGP_.betaHat), label = 'Quadratic Function')\n",
    "plt.scatter(xt, yt - np.dot(myGP_.PHI, myGP_.betaHat), label = 'Residuals')\n",
    "plt.grid(axis = 'y')\n",
    "plt.xlim(0.0, np.pi)\n",
    "plt.ylabel('$f(x)$', fontsize = fontSize)\n",
    "plt.xlabel('$x$', fontsize = fontSize)\n",
    "plt.tick_params(axis='x', labelsize=fontSize)\n",
    "plt.tick_params(axis='y', labelsize=fontSize)\n",
    "plt.legend(loc = 'best',prop={'size':15})\n",
    "plt.show()"
   ]
  },
  {
   "cell_type": "code",
   "execution_count": null,
   "metadata": {},
   "outputs": [],
   "source": [
    "def multiple_formatter(denominator=2, number=np.pi, latex='\\pi'):\n",
    "    def gcd(a, b):\n",
    "        while b:\n",
    "            a, b = b, a%b\n",
    "        return a\n",
    "    def _multiple_formatter(x, pos):\n",
    "        den = denominator\n",
    "        num = np.int(np.rint(den*x/number))\n",
    "        com = gcd(num,den)\n",
    "        (num,den) = (int(num/com),int(den/com))\n",
    "        if den==1:\n",
    "            if num==0:\n",
    "                return r'$0$'\n",
    "            if num==1:\n",
    "                return r'$%s$'%latex\n",
    "            elif num==-1:\n",
    "                return r'$-%s$'%latex\n",
    "            else:\n",
    "                return r'$%s%s$'%(num,latex)\n",
    "        else:\n",
    "            if num==1:\n",
    "                return r'$\\frac{%s}{%s}$'%(latex,den)\n",
    "            elif num==-1:\n",
    "                return r'$\\frac{-%s}{%s}$'%(latex,den)\n",
    "            else:\n",
    "                return r'$\\frac{%s%s}{%s}$'%(num,latex,den)\n",
    "    return _multiple_formatter\n",
    "\n",
    "class Multiple:\n",
    "    def __init__(self, denominator=2, number=np.pi, latex='\\pi'):\n",
    "        self.denominator = denominator\n",
    "        self.number = number\n",
    "        self.latex = latex\n",
    "        \n",
    "    def locator(self):\n",
    "        return plt.MultipleLocator(self.number / self.denominator)\n",
    "    \n",
    "    def formatter(self):\n",
    "        return plt.FuncFormatter(multiple_formatter(self.denominator, self.number, self.latex))"
   ]
  },
  {
   "cell_type": "code",
   "execution_count": null,
   "metadata": {},
   "outputs": [],
   "source": [
    "fig, ax = plt.subplots(1, 2, figsize = (16,6))\n",
    "linewidth = 3\n",
    "ax[0].scatter(xt, yt, s = 50, label = 'Training Point')\n",
    "ax[0].plot(testPoint, yTrue, label = 'True Function', lw = linewidth, c = 'k')\n",
    "ax[0].plot(testPoint, m, label = 'GP mean', linestyle = '--', lw = linewidth, c = 'y')\n",
    "ax[0].fill_between(testPoint, m - 3.*np.sqrt(v),m + 3*np.sqrt(v), alpha=0.2, color='r', label = '$3\\sigma$ Credible Interval')\n",
    "ax[0].set_xlim(0,np.pi)\n",
    "ax[0].set_ylim(0.0,1.5)\n",
    "ax[0].set_xlabel(r'$x$', fontsize = fontSize)\n",
    "ax[0].set_ylabel(r'$f(x)$', fontsize = fontSize)\n",
    "ax[0].tick_params(axis='x', labelsize=fontSize)\n",
    "ax[0].tick_params(axis='y', labelsize=fontSize)\n",
    "ax[0].set_yticks(np.arange(0.0, 1.51, 0.5))\n",
    "ax[0].legend(loc='best',prop={'size':12})\n",
    "ax[0].xaxis.set_major_locator(plt.MultipleLocator(np.pi / 2))\n",
    "ax[0].xaxis.set_major_formatter(plt.FuncFormatter(multiple_formatter()))\n",
    "\n",
    "\n",
    "ax[1].plot(testPoint, f1, label = 'First Derivative (True Function)', lw = linewidth)\n",
    "ax[1].plot(testPoint, f_1, label = 'First Derivative (GP)', linestyle = ':', lw = linewidth)\n",
    "ax[1].plot(testPoint, f2, label = 'Second Derivative (True Function)', lw = linewidth)\n",
    "ax[1].plot(testPoint, f_2, label = 'Second Derivative (GP)', linestyle = '-.', lw = linewidth)\n",
    "ax[1].set_xlim(0,np.pi)\n",
    "ax[1].set_ylim(-1.5,1.5)\n",
    "ax[1].set_xlabel(r'$x$', fontsize = fontSize)\n",
    "ax[1].set_ylabel(r'$f_{i}(x)$', fontsize = fontSize)\n",
    "ax[1].tick_params(axis='x', labelsize=fontSize)\n",
    "ax[1].tick_params(axis='y', labelsize=fontSize)\n",
    "ax[1].legend(loc='best',prop={'size':12})\n",
    "ax[1].xaxis.set_major_locator(plt.MultipleLocator(np.pi / 2))\n",
    "ax[1].xaxis.set_major_formatter(plt.FuncFormatter(multiple_formatter()))\n",
    "\n",
    "\n",
    "# plt.savefig('plot_5_random_subplot.pdf', bbox_inches='tight')\n",
    "plt.show()"
   ]
  },
  {
   "cell_type": "code",
   "execution_count": null,
   "metadata": {},
   "outputs": [],
   "source": [
    "plt.figure(figsize = (14, 10))\n",
    "plt.scatter(xt, yt, s = 100, label = 'Training Point')\n",
    "plt.plot(testPoint, f1, label = 'First Derivative (True Function)', lw = 4)\n",
    "plt.plot(testPoint, f_1, label = 'First Derivative (GP)', linestyle = ':', lw = 4)\n",
    "plt.plot(testPoint, f2, label = 'Second Derivative (True Function)', lw = 4)\n",
    "plt.plot(testPoint, f_2, label = 'Second Derivative (GP)', linestyle = '-.', lw = 4)\n",
    "plt.plot(testPoint, yTrue, label = 'True Function', lw = 4)\n",
    "plt.plot(testPoint, m, label = 'GP mean', linestyle = '--', lw = 4)\n",
    "plt.fill_between(testPoint, m - 3.*np.sqrt(v),m + 3*np.sqrt(v), alpha=0.2, color='r', label = '$3\\sigma$ Credible Interval')\n",
    "plt.xlim(0.0, np.pi)\n",
    "plt.ylim(-1.5, 1.5)\n",
    "plt.grid(axis = 'y')\n",
    "plt.ylabel('$f(x)$', fontsize = fontSize)\n",
    "plt.xlabel('$x$', fontsize = fontSize)\n",
    "plt.tick_params(axis='x', labelsize=fontSize)\n",
    "plt.tick_params(axis='y', labelsize=fontSize)\n",
    "plt.legend(bbox_to_anchor=(1.4, 1.0),prop={'size':15})\n",
    "# plt.savefig('plot_5_random.pdf', bbox_inches='tight')\n",
    "plt.show()"
   ]
  },
  {
   "cell_type": "markdown",
   "metadata": {},
   "source": [
    "### Test Function (2D)"
   ]
  },
  {
   "cell_type": "code",
   "execution_count": null,
   "metadata": {},
   "outputs": [],
   "source": [
    "def myfunction(x):\n",
    "    return x[:,0] * np.sin(x[:,1]) \n",
    "\n",
    "def firstD(x):\n",
    "    return [np.sin(x[:,1]), x[:,0]*np.cos(x[:,1])]\n",
    "\n",
    "def secondD(x):\n",
    "    f_00 = 0.0\n",
    "    f_01 = np.cos(x[:,1])\n",
    "    f_10 = np.cos(x[:,1])\n",
    "    f_11 = -x[:,0] * np.sin(x[:,1])\n",
    "\n",
    "    return np.array([[f_00, f_01], [f_10, f_11]])"
   ]
  },
  {
   "cell_type": "code",
   "execution_count": null,
   "metadata": {},
   "outputs": [],
   "source": [
    "N  = 50\n",
    "xt = np.zeros((N, 2))\n",
    "xt[:,0] = np.random.uniform(0.0, 1.0, N)\n",
    "xt[:,1] = np.random.uniform(0.0, 1.0, N)\n",
    "yt      = myfunction(xt).reshape(N,1)"
   ]
  },
  {
   "cell_type": "code",
   "execution_count": null,
   "metadata": {},
   "outputs": [],
   "source": [
    "Nparams = 2\n",
    "myGP_ = GP(xt, yt, optParams=np.zeros(Nparams), Var = 1E-10, Xtrans = True, yTrans = False, jitter = 1E-8)"
   ]
  },
  {
   "cell_type": "code",
   "execution_count": null,
   "metadata": {},
   "outputs": [],
   "source": [
    "myGP_.makeTransformation()\n",
    "PHI_ = myGP_.computeBasis(order = 2)\n",
    "myGP_.regressionPrior()"
   ]
  },
  {
   "cell_type": "code",
   "execution_count": null,
   "metadata": {},
   "outputs": [],
   "source": [
    "bnd    = np.repeat(np.array([[-5.0,5.0]]), Nparams, axis = 0)\n",
    "#bnd[0] = np.array([-5.0, 5.0])"
   ]
  },
  {
   "cell_type": "code",
   "execution_count": null,
   "metadata": {},
   "outputs": [],
   "source": [
    "myGP_.fit(method = 'L-BFGS-B', bounds = bnd, options = {'ftol':1E-18, 'maxiter':500}, Nrestart = 5)"
   ]
  },
  {
   "cell_type": "code",
   "execution_count": null,
   "metadata": {},
   "outputs": [],
   "source": [
    "testPoint = np.array([[0.5, 0.8]])"
   ]
  },
  {
   "cell_type": "code",
   "execution_count": null,
   "metadata": {},
   "outputs": [],
   "source": [
    "eps = 1E-5\n",
    "testPoint1 = np.array([[0.5+eps, 0.8]])\n",
    "testPoint2 = np.array([[0.5-eps, 0.8]])"
   ]
  },
  {
   "cell_type": "code",
   "execution_count": null,
   "metadata": {},
   "outputs": [],
   "source": [
    "(myGP_.prediction(testPoint1) - myGP_.prediction(testPoint2))/(2.*eps)"
   ]
  },
  {
   "cell_type": "code",
   "execution_count": null,
   "metadata": {},
   "outputs": [],
   "source": [
    "#(myGP_.predOriginalFunction(testPoint1) - myGP_.predOriginalFunction(testPoint2))/(2.*eps)"
   ]
  },
  {
   "cell_type": "code",
   "execution_count": null,
   "metadata": {},
   "outputs": [],
   "source": [
    "#myGP_.predOriginalFunction(testPoint)"
   ]
  },
  {
   "cell_type": "code",
   "execution_count": null,
   "metadata": {},
   "outputs": [],
   "source": [
    "myfunction(testPoint)"
   ]
  },
  {
   "cell_type": "code",
   "execution_count": null,
   "metadata": {},
   "outputs": [],
   "source": [
    "g1, g2 = myGP_.derivatives(testPoint, order = 2)"
   ]
  },
  {
   "cell_type": "code",
   "execution_count": null,
   "metadata": {},
   "outputs": [],
   "source": [
    "g1"
   ]
  },
  {
   "cell_type": "code",
   "execution_count": null,
   "metadata": {},
   "outputs": [],
   "source": [
    "g2"
   ]
  },
  {
   "cell_type": "code",
   "execution_count": null,
   "metadata": {},
   "outputs": [],
   "source": [
    "firstD(testPoint)"
   ]
  },
  {
   "cell_type": "code",
   "execution_count": null,
   "metadata": {},
   "outputs": [],
   "source": [
    "np.diag(secondD(testPoint))"
   ]
  },
  {
   "cell_type": "markdown",
   "metadata": {},
   "source": [
    "### Gaussian Linear Model "
   ]
  },
  {
   "cell_type": "code",
   "execution_count": null,
   "metadata": {},
   "outputs": [],
   "source": [
    "myGLM = GLM(xt, yt, Var=1)\n",
    "myGLM.makeTransformation()\n",
    "D = myGLM.computeBasis(order = 2)\n",
    "myGLM.regressionPrior(Lambda = 1)\n",
    "logZ = myGLM.Evidence()\n",
    "post_beta, cov_beta = myGLM.posteriorCoefficients()"
   ]
  },
  {
   "cell_type": "code",
   "execution_count": null,
   "metadata": {},
   "outputs": [],
   "source": [
    "cov_beta"
   ]
  },
  {
   "cell_type": "code",
   "execution_count": null,
   "metadata": {},
   "outputs": [],
   "source": [
    "post_beta"
   ]
  },
  {
   "cell_type": "code",
   "execution_count": null,
   "metadata": {},
   "outputs": [],
   "source": [
    "phi = np.c_[np.ones((N,1)), np.concatenate([xt**i for i in range(1,3)], axis = 1)]"
   ]
  },
  {
   "cell_type": "code",
   "execution_count": null,
   "metadata": {},
   "outputs": [],
   "source": [
    "from functools import reduce"
   ]
  },
  {
   "cell_type": "code",
   "execution_count": null,
   "metadata": {},
   "outputs": [],
   "source": [
    "mle = reduce(np.dot, [np.linalg.inv(np.dot(phi.T, phi)), phi.T, yt])"
   ]
  },
  {
   "cell_type": "code",
   "execution_count": null,
   "metadata": {},
   "outputs": [],
   "source": [
    "y_mle = np.dot(phi, mle)"
   ]
  },
  {
   "cell_type": "code",
   "execution_count": null,
   "metadata": {},
   "outputs": [],
   "source": [
    "mle"
   ]
  },
  {
   "cell_type": "code",
   "execution_count": null,
   "metadata": {},
   "outputs": [],
   "source": [
    "cov_mle = np.linalg.inv(np.dot(phi.T, phi))"
   ]
  },
  {
   "cell_type": "code",
   "execution_count": null,
   "metadata": {},
   "outputs": [],
   "source": [
    "np.log(np.var(yt  - y_mle))"
   ]
  },
  {
   "cell_type": "code",
   "execution_count": null,
   "metadata": {},
   "outputs": [],
   "source": [
    "plt.scatter(xt, yt, label = 'Original')\n",
    "plt.scatter(xt, np.dot(phi, post_beta), label = 'Posterior')\n",
    "plt.scatter(xt, yt  - np.dot(phi, post_beta), label = 'Residuals')\n",
    "plt.scatter(xt, yt  - y_mle, label = 'Residuals MLE')\n",
    "plt.legend()\n",
    "plt.show()"
   ]
  },
  {
   "cell_type": "code",
   "execution_count": null,
   "metadata": {},
   "outputs": [],
   "source": [
    "# Note - rewrite GLM on scaled input parameters "
   ]
  },
  {
   "cell_type": "markdown",
   "metadata": {},
   "source": [
    "### Plotting"
   ]
  },
  {
   "cell_type": "code",
   "execution_count": null,
   "metadata": {},
   "outputs": [],
   "source": [
    "samps = np.random.multivariate_normal(myGP.betaHat.flatten(), myGP.Vbeta, 10000)\n",
    "samps2 = np.random.multivariate_normal(post_beta.flatten(), cov_beta, 10000)"
   ]
  },
  {
   "cell_type": "code",
   "execution_count": null,
   "metadata": {},
   "outputs": [],
   "source": [
    "ndim  = 7\n",
    "names = [\"x%s\"%i for i in range(ndim)]\n",
    "labels =  [\"x_%s\"%i for i in range(ndim)]\n",
    "samples = MCSamples(samples=samps,names = names, labels = labels)\n",
    "samples2 = MCSamples(samples=samps2,names = names, labels = labels)"
   ]
  },
  {
   "cell_type": "code",
   "execution_count": null,
   "metadata": {},
   "outputs": [],
   "source": [
    "g = plots.get_subplot_plotter()\n",
    "g.triangle_plot([samples2], filled=True)"
   ]
  },
  {
   "cell_type": "code",
   "execution_count": null,
   "metadata": {},
   "outputs": [],
   "source": [
    "g = plots.get_subplot_plotter()\n",
    "g.triangle_plot([samples], filled=True)"
   ]
  },
  {
   "cell_type": "code",
   "execution_count": null,
   "metadata": {},
   "outputs": [],
   "source": []
  }
 ],
 "metadata": {
  "kernelspec": {
   "display_name": "Python 3",
   "language": "python",
   "name": "python3"
  },
  "language_info": {
   "codemirror_mode": {
    "name": "ipython",
    "version": 3
   },
   "file_extension": ".py",
   "mimetype": "text/x-python",
   "name": "python",
   "nbconvert_exporter": "python",
   "pygments_lexer": "ipython3",
   "version": "3.7.6"
  }
 },
 "nbformat": 4,
 "nbformat_minor": 2
}
